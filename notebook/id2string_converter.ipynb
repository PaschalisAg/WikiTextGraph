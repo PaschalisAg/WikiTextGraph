{
 "cells": [
  {
   "cell_type": "markdown",
   "id": "1b545481",
   "metadata": {},
   "source": [
    "# ID2String converter\n",
    "In this tutorial we will show how to replace the numerical IDs of the Source and Target column with their corresponding string value.\n",
    "\n",
    "When calling WikiTextGraph and when prompting the algorithm to create the graph it will create two directories: \n",
    "1) `output` with the Wikipedia articles (`{language_code}_WP_titles_texts.parquet`)\n",
    "2) `graph` with the graph (`{language_code}_wiki_graph.parquet`), the redirect mapping (`redirects_rev_mapping.pkl`), and the id-to-string (`{language_code}_id_node_mapping.parquet`) mapping.\n",
    "\n",
    "Therefore, to convert the IDs to their corresponding string values we need the graph itself and the id-to-string mapping."
   ]
  },
  {
   "cell_type": "code",
   "execution_count": null,
   "id": "20e883fc",
   "metadata": {},
   "outputs": [],
   "source": [
    "# import the necessary library\n",
    "import pandas as pd\n",
    "\n",
    "# load the necessary files\n",
    "# replace with your own paths here\n",
    "graph = pd.read_parquet(\"path/to/graph.parquet\", engine=\"pyarrow\")\n",
    "id2label_df = pd.read_parquet(\"path/to/id2string.parquet\", engine=\"pyarrow\")\n",
    "\n",
    "# this creates a dictionary where the key is the id and the value is the label\n",
    "# e.g., 1 : \"Albert Einstein\"\n",
    "id_2_string = dict(zip(id2label_df[\"id\"], id2label_df[\"label\"]))\n",
    "\n",
    "# using map we can replace the keys (i.e., IDs) with their corresponding string values\n",
    "graph[\"Source\"] = graph[\"Source\"].map(id_2_string)\n",
    "graph[\"Target\"] = graph[\"Target\"].map(id_2_string)"
   ]
  },
  {
   "cell_type": "markdown",
   "id": "a9939530",
   "metadata": {},
   "source": [
    "Simple as that, you will replace the numerical IDs with their corresponding string values."
   ]
  }
 ],
 "metadata": {
  "kernelspec": {
   "display_name": "wikitextgraph_env",
   "language": "python",
   "name": "python3"
  },
  "language_info": {
   "codemirror_mode": {
    "name": "ipython",
    "version": 3
   },
   "file_extension": ".py",
   "mimetype": "text/x-python",
   "name": "python",
   "nbconvert_exporter": "python",
   "pygments_lexer": "ipython3",
   "version": "3.9.23"
  }
 },
 "nbformat": 4,
 "nbformat_minor": 5
}
